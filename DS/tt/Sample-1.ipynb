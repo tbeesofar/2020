{
 "cells": [
  {
   "cell_type": "code",
   "execution_count": 37,
   "metadata": {},
   "outputs": [],
   "source": [
    "import sklearn\n",
    "import numpy as np\n",
    "import pandas as pd"
   ]
  },
  {
   "cell_type": "code",
   "execution_count": 38,
   "metadata": {},
   "outputs": [],
   "source": [
    "def add_vector(v1=[1.,2.,.3], v2=[.7,1.,.9]):\n",
    "    if len(v1) != len(v2):\n",
    "        return None\n",
    "    else:\n",
    "        res = []\n",
    "        for i in range(len(v1)):\n",
    "            r = v1[i] + v2[i]\n",
    "            res.append(r)\n",
    "        return res"
   ]
  },
  {
   "cell_type": "code",
   "execution_count": 39,
   "metadata": {},
   "outputs": [
    {
     "name": "stdout",
     "output_type": "stream",
     "text": [
      "[1.7, 3.0, 1.2]\n"
     ]
    }
   ],
   "source": [
    "print(add_vector())"
   ]
  },
  {
   "cell_type": "code",
   "execution_count": 40,
   "metadata": {},
   "outputs": [
    {
     "data": {
      "text/plain": [
       "[2, 4, 8.6]"
      ]
     },
     "execution_count": 40,
     "metadata": {},
     "output_type": "execute_result"
    }
   ],
   "source": [
    "add_vector(v1=[1, 2, 4], v2=[1, 2, 4.6])"
   ]
  },
  {
   "cell_type": "code",
   "execution_count": 41,
   "metadata": {},
   "outputs": [],
   "source": [
    "# create a method that computes the euclidian dist between two vectors"
   ]
  },
  {
   "cell_type": "code",
   "execution_count": 42,
   "metadata": {},
   "outputs": [],
   "source": [
    "from math import sqrt\n",
    "def euclidean_dist(x1=[1.,8.,.6], y1=[.8,.4,9.]):\n",
    "    if len(x1) != len(y1):\n",
    "        return print (\"Length of x and y are not same\")\n",
    "    else: \n",
    "        dif = []\n",
    "        for i in range(len(x1)):\n",
    "            d = (x1[i] - y1[i])*(x1[i] - y1[i])\n",
    "            dif.append(d)\n",
    "        add=sum(dif)\n",
    "        return sqrt(add)"
   ]
  },
  {
   "cell_type": "code",
   "execution_count": 43,
   "metadata": {},
   "outputs": [
    {
     "name": "stdout",
     "output_type": "stream",
     "text": [
      "11.329607230614839\n"
     ]
    }
   ],
   "source": [
    "print(euclidean_dist())"
   ]
  },
  {
   "cell_type": "code",
   "execution_count": 44,
   "metadata": {},
   "outputs": [],
   "source": [
    "X=np.random.rand(100,2)"
   ]
  },
  {
   "cell_type": "code",
   "execution_count": 45,
   "metadata": {},
   "outputs": [
    {
     "data": {
      "text/plain": [
       "(100, 2)"
      ]
     },
     "execution_count": 45,
     "metadata": {},
     "output_type": "execute_result"
    }
   ],
   "source": [
    "X.shape"
   ]
  },
  {
   "cell_type": "code",
   "execution_count": 46,
   "metadata": {},
   "outputs": [
    {
     "data": {
      "text/plain": [
       "array([[0.8067928 , 0.24828751],\n",
       "       [0.15930338, 0.77096732],\n",
       "       [0.91610482, 0.86666798],\n",
       "       [0.99114786, 0.64407426],\n",
       "       [0.63225989, 0.68340987],\n",
       "       [0.00213087, 0.80041938],\n",
       "       [0.36319906, 0.98884745],\n",
       "       [0.96778889, 0.42168237],\n",
       "       [0.12637713, 0.34560939],\n",
       "       [0.66302012, 0.56639953],\n",
       "       [0.81795973, 0.14237278],\n",
       "       [0.45803916, 0.25210271],\n",
       "       [0.700566  , 0.60844424],\n",
       "       [0.38115644, 0.00414083],\n",
       "       [0.82260772, 0.09250331],\n",
       "       [0.10677142, 0.3670426 ],\n",
       "       [0.60059707, 0.25344767],\n",
       "       [0.73493608, 0.98953524],\n",
       "       [0.14460954, 0.57345254],\n",
       "       [0.65006488, 0.34107002],\n",
       "       [0.83919204, 0.16813632],\n",
       "       [0.60767272, 0.02533405],\n",
       "       [0.30827931, 0.95250864],\n",
       "       [0.03553636, 0.6183917 ],\n",
       "       [0.95139443, 0.10784452],\n",
       "       [0.48541753, 0.38608144],\n",
       "       [0.22674118, 0.16988849],\n",
       "       [0.94852074, 0.70155768],\n",
       "       [0.33122937, 0.37516027],\n",
       "       [0.29044858, 0.1891677 ],\n",
       "       [0.35956766, 0.20536171],\n",
       "       [0.3891286 , 0.14781987],\n",
       "       [0.27352357, 0.56628743],\n",
       "       [0.71588007, 0.62553892],\n",
       "       [0.97885713, 0.01033272],\n",
       "       [0.79865139, 0.12605678],\n",
       "       [0.93812567, 0.05291798],\n",
       "       [0.36651299, 0.6795228 ],\n",
       "       [0.45734064, 0.91430939],\n",
       "       [0.33466786, 0.70156801],\n",
       "       [0.91426569, 0.73812676],\n",
       "       [0.69216328, 0.21751564],\n",
       "       [0.03490401, 0.49799035],\n",
       "       [0.64376471, 0.96109292],\n",
       "       [0.4772455 , 0.02548593],\n",
       "       [0.82218253, 0.11834237],\n",
       "       [0.62324313, 0.90452844],\n",
       "       [0.29760626, 0.26399269],\n",
       "       [0.47743806, 0.04655253],\n",
       "       [0.33116866, 0.80045965],\n",
       "       [0.73000457, 0.14701831],\n",
       "       [0.8571373 , 0.97144613],\n",
       "       [0.66202187, 0.89387636],\n",
       "       [0.44212455, 0.55049027],\n",
       "       [0.61025517, 0.51654786],\n",
       "       [0.0133663 , 0.59210712],\n",
       "       [0.85763942, 0.49218574],\n",
       "       [0.04234827, 0.51902702],\n",
       "       [0.83249566, 0.77923942],\n",
       "       [0.32957338, 0.73132598],\n",
       "       [0.1203159 , 0.31683188],\n",
       "       [0.74188967, 0.20926484],\n",
       "       [0.54441691, 0.62378043],\n",
       "       [0.41755455, 0.69307947],\n",
       "       [0.17245763, 0.57070844],\n",
       "       [0.18557163, 0.25934549],\n",
       "       [0.85262763, 0.81933563],\n",
       "       [0.49988237, 0.20605512],\n",
       "       [0.23791718, 0.09445926],\n",
       "       [0.08590692, 0.4231158 ],\n",
       "       [0.52938079, 0.68359411],\n",
       "       [0.22920594, 0.65576711],\n",
       "       [0.25183822, 0.07590118],\n",
       "       [0.67005316, 0.56178603],\n",
       "       [0.60726983, 0.86896869],\n",
       "       [0.82844796, 0.11297858],\n",
       "       [0.66393643, 0.26002266],\n",
       "       [0.20595423, 0.63305382],\n",
       "       [0.39870292, 0.29530054],\n",
       "       [0.35701944, 0.41567636],\n",
       "       [0.56423655, 0.31360476],\n",
       "       [0.14983086, 0.17152399],\n",
       "       [0.22730126, 0.90273471],\n",
       "       [0.42710269, 0.84143986],\n",
       "       [0.67496985, 0.77805379],\n",
       "       [0.42208853, 0.7670488 ],\n",
       "       [0.54731954, 0.86243939],\n",
       "       [0.87386076, 0.95219366],\n",
       "       [0.94928109, 0.3039159 ],\n",
       "       [0.33972051, 0.56556434],\n",
       "       [0.04770342, 0.15935053],\n",
       "       [0.99559829, 0.35459307],\n",
       "       [0.1228281 , 0.12091357],\n",
       "       [0.11804395, 0.34504374],\n",
       "       [0.61854699, 0.3005603 ],\n",
       "       [0.81392574, 0.69334359],\n",
       "       [0.58985687, 0.72959582],\n",
       "       [0.09732828, 0.57533588],\n",
       "       [0.14704928, 0.04608303],\n",
       "       [0.10307446, 0.44951009]])"
      ]
     },
     "execution_count": 46,
     "metadata": {},
     "output_type": "execute_result"
    }
   ],
   "source": [
    "X"
   ]
  },
  {
   "cell_type": "code",
   "execution_count": 47,
   "metadata": {},
   "outputs": [],
   "source": [
    "Y=[]\n",
    "for i in range(100):\n",
    "    if i%2==0:\n",
    "        Y.append(1)\n",
    "    else:\n",
    "        Y.append(0)"
   ]
  },
  {
   "cell_type": "code",
   "execution_count": 48,
   "metadata": {},
   "outputs": [],
   "source": [
    "Y=np.asarray(Y)"
   ]
  },
  {
   "cell_type": "code",
   "execution_count": 49,
   "metadata": {},
   "outputs": [
    {
     "data": {
      "text/plain": [
       "(100,)"
      ]
     },
     "execution_count": 49,
     "metadata": {},
     "output_type": "execute_result"
    }
   ],
   "source": [
    "Y.shape"
   ]
  },
  {
   "cell_type": "code",
   "execution_count": 50,
   "metadata": {},
   "outputs": [
    {
     "data": {
      "text/plain": [
       "array([1, 0, 1, 0, 1, 0, 1, 0, 1, 0, 1, 0, 1, 0, 1, 0, 1, 0, 1, 0, 1, 0,\n",
       "       1, 0, 1, 0, 1, 0, 1, 0, 1, 0, 1, 0, 1, 0, 1, 0, 1, 0, 1, 0, 1, 0,\n",
       "       1, 0, 1, 0, 1, 0, 1, 0, 1, 0, 1, 0, 1, 0, 1, 0, 1, 0, 1, 0, 1, 0,\n",
       "       1, 0, 1, 0, 1, 0, 1, 0, 1, 0, 1, 0, 1, 0, 1, 0, 1, 0, 1, 0, 1, 0,\n",
       "       1, 0, 1, 0, 1, 0, 1, 0, 1, 0, 1, 0])"
      ]
     },
     "execution_count": 50,
     "metadata": {},
     "output_type": "execute_result"
    }
   ],
   "source": [
    "Y"
   ]
  },
  {
   "cell_type": "code",
   "execution_count": 51,
   "metadata": {},
   "outputs": [],
   "source": [
    "import matplotlib.pyplot as plt"
   ]
  },
  {
   "cell_type": "code",
   "execution_count": null,
   "metadata": {},
   "outputs": [],
   "source": []
  },
  {
   "cell_type": "code",
   "execution_count": 53,
   "metadata": {},
   "outputs": [
    {
     "data": {
      "image/png": "[encoded data removed]",
      "text/plain": [
       "<Figure size 432x288 with 1 Axes>"
      ]
     },
     "metadata": {
      "needs_background": "light"
     },
     "output_type": "display_data"
    }
   ],
   "source": [
    "x1 = []\n",
    "x2 = []\n",
    "y = []\n",
    "color_dict = {1: 'orange', 0: 'green'}\n",
    "\n",
    "fig, ax = plt.subplots()\n",
    "for i in range(100):\n",
    "    ax.scatter(X[i][0],X[i][1], c=color_dict[Y[i]])\n",
    "plt.show()"
   ]
  },
  {
   "cell_type": "code",
   "execution_count": 54,
   "metadata": {},
   "outputs": [],
   "source": [
    "# K-NN func"
   ]
  },
  {
   "cell_type": "code",
   "execution_count": 55,
   "metadata": {},
   "outputs": [
    {
     "name": "stdout",
     "output_type": "stream",
     "text": [
      "[2, {'c': 4, 'd': 5}]\n"
     ]
    }
   ],
   "source": [
    "# Tup\n",
    "a = (1, 3,[2,{'c':4,'d':5}], 6, 7)\n",
    "print(a[2][-3:])\n",
    "#k = [(9,4), (3, 4)]\n",
    "#print(k[1][1])"
   ]
  },
  {
   "cell_type": "code",
   "execution_count": 56,
   "metadata": {},
   "outputs": [],
   "source": [
    " def knn(xtest,k, x,y):\n",
    "    dis_vec=[]\n",
    "    for i in range(len(x)):\n",
    "        dis_vec.append((euclidean_dist(x[i],xtest),y[i],i))\n",
    "    dis_vec.sort()\n",
    "    dis_vec=dis_vec[:k]\n",
    "    lab_dict_freq= {0:0,1:0}\n",
    "    for i in range(k):\n",
    "        a=dis_vec[i]\n",
    "        if a[1]==1:\n",
    "            lab_dict_freq[1]+=1\n",
    "        else:\n",
    "            lab_dict_freq[0]+=1\n",
    "    if lab_dict_freq[0]>lab_dict_freq[1]:\n",
    "        return (0,(lab_dict_freq[0]/(lab_dict_freq[0]+lab_dict_freq[1])))\n",
    "    else:\n",
    "        return (1,(lab_dict_freq[1]/(lab_dict_freq[0]+lab_dict_freq[1])))\n",
    "    "
   ]
  },
  {
   "cell_type": "code",
   "execution_count": 58,
   "metadata": {},
   "outputs": [
    {
     "name": "stdout",
     "output_type": "stream",
     "text": [
      "(1, 1.0)\n",
      "(1, 1.0)\n",
      "(1, 0.6666666666666666)\n",
      "(1, 0.5)\n",
      "(1, 0.6)\n",
      "(1, 0.6666666666666666)\n",
      "(1, 0.5714285714285714)\n",
      "(1, 0.625)\n",
      "(1, 0.5555555555555556)\n",
      "(1, 0.6)\n",
      "(1, 0.5454545454545454)\n",
      "(1, 0.5)\n",
      "(1, 0.5384615384615384)\n",
      "(1, 0.5)\n",
      "(1, 0.5333333333333333)\n",
      "(1, 0.5625)\n",
      "(1, 0.5882352941176471)\n",
      "(1, 0.5555555555555556)\n",
      "(1, 0.5789473684210527)\n",
      "(1, 0.6)\n",
      "(1, 0.6190476190476191)\n",
      "(1, 0.6363636363636364)\n",
      "(1, 0.6086956521739131)\n",
      "(1, 0.5833333333333334)\n",
      "(1, 0.56)\n",
      "(1, 0.5769230769230769)\n",
      "(1, 0.5925925925925926)\n",
      "(1, 0.5714285714285714)\n",
      "(1, 0.5517241379310345)\n",
      "(1, 0.5333333333333333)\n",
      "(1, 0.5161290322580645)\n",
      "(1, 0.5)\n",
      "(0, 0.5151515151515151)\n",
      "(1, 0.5)\n",
      "(0, 0.5142857142857142)\n",
      "(1, 0.5)\n",
      "(1, 0.5135135135135135)\n",
      "(1, 0.5263157894736842)\n",
      "(1, 0.5384615384615384)\n",
      "(1, 0.55)\n",
      "(1, 0.5609756097560976)\n",
      "(1, 0.5714285714285714)\n",
      "(1, 0.5581395348837209)\n",
      "(1, 0.5681818181818182)\n",
      "(1, 0.5777777777777777)\n",
      "(1, 0.5652173913043478)\n",
      "(1, 0.574468085106383)\n",
      "(1, 0.5833333333333334)\n",
      "(1, 0.5714285714285714)\n",
      "(1, 0.58)\n"
     ]
    }
   ],
   "source": [
    "for i in range(50):\n",
    "    print(knn(xtest=[.9,.3],k=i+1,x=X,y=Y))"
   ]
  },
  {
   "cell_type": "code",
   "execution_count": 31,
   "metadata": {},
   "outputs": [
    {
     "data": {
      "text/plain": [
       "<matplotlib.collections.PathCollection at 0x7f8d33b6f048>"
      ]
     },
     "execution_count": 31,
     "metadata": {},
     "output_type": "execute_result"
    }
   ],
   "source": [
    "ax.scatter(X[i][0],X[i][1], c=color_dict[Y[i]])"
   ]
  },
  {
   "cell_type": "code",
   "execution_count": 32,
   "metadata": {},
   "outputs": [],
   "source": [
    "plt.show()"
   ]
  },
  {
   "cell_type": "code",
   "execution_count": null,
   "metadata": {},
   "outputs": [],
   "source": []
  }
 ],
 "metadata": {
  "kernelspec": {
   "display_name": "Python 3",
   "language": "python",
   "name": "python3"
  },
  "language_info": {
   "codemirror_mode": {
    "name": "ipython",
    "version": 3
   },
   "file_extension": ".py",
   "mimetype": "text/x-python",
   "name": "python",
   "nbconvert_exporter": "python",
   "pygments_lexer": "ipython3",
   "version": "3.5.6"
  }
 },
 "nbformat": 4,
 "nbformat_minor": 2
}
