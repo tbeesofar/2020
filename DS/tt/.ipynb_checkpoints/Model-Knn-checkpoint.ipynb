{
 "cells": [
  {
   "cell_type": "code",
   "execution_count": 3,
   "metadata": {},
   "outputs": [],
   "source": [
    "import sklearn\n",
    "import numpy as np\n",
    "import pandas as pd\n",
    "from math import sqrt\n",
    "import matplotlib.pyplot as plt"
   ]
  },
  {
   "cell_type": "code",
   "execution_count": 27,
   "metadata": {},
   "outputs": [],
   "source": [
    "def create_data(N: int, d : int):\n",
    "    \"\"\"\n",
    "    @param N | int | num of samples\n",
    "    @param d | int | num of features\n",
    "    returns data | touple (x, y)| x: np.array(N,d), y: (N,1), i.e. 0, 1 \n",
    "    \"\"\"\n",
    "    if N <= 0:\n",
    "        return data\n",
    "    else:\n",
    "        x = np.random.rand(N,d)\n",
    "        y = []\n",
    "        for i in range(N):\n",
    "            y.append(Y_val(x[i]))\n",
    "        data = (x, y)\n",
    "        return data\n",
    "    \n",
    "\n",
    "def Y_val(xfd: list):\n",
    "    v = 0.0\n",
    "    for k in xfd:\n",
    "        v +=k\n",
    "    v=v/len(xfd)\n",
    "    if v >= 0.0 and v < 0.33:\n",
    "        return 0\n",
    "    elif v >= 0.33 and v < 0.66:\n",
    "        return 1\n",
    "    else:\n",
    "        return 2\n",
    "        \n",
    "        \n",
    "    \n",
    "def convert_to_pandas_data_frame(X,Y):\n",
    "    \"\"\"\n",
    "    @param X | list | feature list of samples\n",
    "    @param Y | list | output/class list of samples\n",
    "    returns df | pd.DataFrame | X with features and Y\n",
    "    \"\"\"\n",
    "    df = None\n",
    "    if len(X) != len(Y):\n",
    "        return df\n",
    "    else:\n",
    "        rows = []\n",
    "        for i in range(len(X)):\n",
    "            coll_dict = {}\n",
    "            x = X[i]\n",
    "            y = Y[i]\n",
    "            for idx_x, val_x in enumerate(x):\n",
    "                coll_dict['x-'+str(idx_x)] = val_x # for display only \n",
    "            coll_dict['y']=Y[i]\n",
    "            rows.append(coll_dict)\n",
    "        df = pd.DataFrame(rows)\n",
    "        return df\n",
    "    \n",
    "def visualize_binary_class_data_by(feature1,feature2,numSamples,myX,myY):\n",
    "    \"\"\"\n",
    "    @param feature1 | int | first index of a feature of a sample\n",
    "    @param feature2 | int | second index of a feature of a sample\n",
    "    @param numSample | int | number of samples to visualize\n",
    "    @param X | list | feature list of samples\n",
    "    @param Y | list | output/class list of samples\n",
    "    returns graph with two features and binary class\n",
    "    \"\"\"\n",
    "    color_dict = {0: 'orange', 1: 'green', 2:'red'}\n",
    "    fig, ax = plt.subplots()\n",
    "    for i in range(numSamples):\n",
    "        ax.scatter(myX[i][feature1],myX[i][feature2], c=''+str(color_dict[myY[i]]))\n",
    "    ax.legend()\n",
    "    ax.grid(True)\n",
    "    plt.show()"
   ]
  },
  {
   "cell_type": "markdown",
   "metadata": {},
   "source": [
    "Creating my data set $D = \\{x_i, y_i\\}_{i=1}^{N}$\n",
    "\n",
    "where, $x_i \\in \\mathbb{R}^2$ and $y_i \\in \\{0,1\\} \\text{,} \\forall i = 1, 2, 3, ..., N$"
   ]
  },
  {
   "cell_type": "code",
   "execution_count": 28,
   "metadata": {},
   "outputs": [
    {
     "name": "stderr",
     "output_type": "stream",
     "text": [
      "No handles with labels found to put in legend.\n"
     ]
    },
    {
     "data": {
      "image/png": "[encoded data removed]",
      "text/plain": [
       "<Figure size 432x288 with 1 Axes>"
      ]
     },
     "metadata": {
      "needs_background": "light"
     },
     "output_type": "display_data"
    }
   ],
   "source": [
    "data_X,data_Y = create_data(N=150,d=4)\n",
    "visualize_binary_class_data_by(feature1=0,feature2=3,numSamples=len(data_X),myX=data_X,myY=data_Y)"
   ]
  },
  {
   "cell_type": "markdown",
   "metadata": {},
   "source": [
    "### Converting my data to DataFrame for easier operation"
   ]
  },
  {
   "cell_type": "code",
   "execution_count": 10,
   "metadata": {},
   "outputs": [
    {
     "data": {
      "text/html": [
       "<div>\n",
       "<style scoped>\n",
       "    .dataframe tbody tr th:only-of-type {\n",
       "        vertical-align: middle;\n",
       "    }\n",
       "\n",
       "    .dataframe tbody tr th {\n",
       "        vertical-align: top;\n",
       "    }\n",
       "\n",
       "    .dataframe thead th {\n",
       "        text-align: right;\n",
       "    }\n",
       "</style>\n",
       "<table border=\"1\" class=\"dataframe\">\n",
       "  <thead>\n",
       "    <tr style=\"text-align: right;\">\n",
       "      <th></th>\n",
       "      <th>x-0</th>\n",
       "      <th>x-1</th>\n",
       "      <th>x-2</th>\n",
       "      <th>x-3</th>\n",
       "      <th>y</th>\n",
       "    </tr>\n",
       "  </thead>\n",
       "  <tbody>\n",
       "    <tr>\n",
       "      <th>0</th>\n",
       "      <td>0.437140</td>\n",
       "      <td>0.789836</td>\n",
       "      <td>0.889777</td>\n",
       "      <td>0.813268</td>\n",
       "      <td>2</td>\n",
       "    </tr>\n",
       "    <tr>\n",
       "      <th>1</th>\n",
       "      <td>0.978507</td>\n",
       "      <td>0.796118</td>\n",
       "      <td>0.230236</td>\n",
       "      <td>0.164786</td>\n",
       "      <td>1</td>\n",
       "    </tr>\n",
       "    <tr>\n",
       "      <th>2</th>\n",
       "      <td>0.723136</td>\n",
       "      <td>0.595343</td>\n",
       "      <td>0.321528</td>\n",
       "      <td>0.907032</td>\n",
       "      <td>1</td>\n",
       "    </tr>\n",
       "    <tr>\n",
       "      <th>3</th>\n",
       "      <td>0.309732</td>\n",
       "      <td>0.646500</td>\n",
       "      <td>0.115422</td>\n",
       "      <td>0.998028</td>\n",
       "      <td>1</td>\n",
       "    </tr>\n",
       "    <tr>\n",
       "      <th>4</th>\n",
       "      <td>0.095351</td>\n",
       "      <td>0.371262</td>\n",
       "      <td>0.453830</td>\n",
       "      <td>0.309835</td>\n",
       "      <td>0</td>\n",
       "    </tr>\n",
       "    <tr>\n",
       "      <th>5</th>\n",
       "      <td>0.028401</td>\n",
       "      <td>0.856265</td>\n",
       "      <td>0.104805</td>\n",
       "      <td>0.823647</td>\n",
       "      <td>1</td>\n",
       "    </tr>\n",
       "    <tr>\n",
       "      <th>6</th>\n",
       "      <td>0.992174</td>\n",
       "      <td>0.953603</td>\n",
       "      <td>0.261897</td>\n",
       "      <td>0.151054</td>\n",
       "      <td>1</td>\n",
       "    </tr>\n",
       "    <tr>\n",
       "      <th>7</th>\n",
       "      <td>0.614284</td>\n",
       "      <td>0.859900</td>\n",
       "      <td>0.922318</td>\n",
       "      <td>0.026365</td>\n",
       "      <td>1</td>\n",
       "    </tr>\n",
       "    <tr>\n",
       "      <th>8</th>\n",
       "      <td>0.752661</td>\n",
       "      <td>0.534373</td>\n",
       "      <td>0.360798</td>\n",
       "      <td>0.010151</td>\n",
       "      <td>1</td>\n",
       "    </tr>\n",
       "    <tr>\n",
       "      <th>9</th>\n",
       "      <td>0.817890</td>\n",
       "      <td>0.244295</td>\n",
       "      <td>0.967939</td>\n",
       "      <td>0.219922</td>\n",
       "      <td>1</td>\n",
       "    </tr>\n",
       "  </tbody>\n",
       "</table>\n",
       "</div>"
      ],
      "text/plain": [
       "        x-0       x-1       x-2       x-3  y\n",
       "0  0.437140  0.789836  0.889777  0.813268  2\n",
       "1  0.978507  0.796118  0.230236  0.164786  1\n",
       "2  0.723136  0.595343  0.321528  0.907032  1\n",
       "3  0.309732  0.646500  0.115422  0.998028  1\n",
       "4  0.095351  0.371262  0.453830  0.309835  0\n",
       "5  0.028401  0.856265  0.104805  0.823647  1\n",
       "6  0.992174  0.953603  0.261897  0.151054  1\n",
       "7  0.614284  0.859900  0.922318  0.026365  1\n",
       "8  0.752661  0.534373  0.360798  0.010151  1\n",
       "9  0.817890  0.244295  0.967939  0.219922  1"
      ]
     },
     "execution_count": 10,
     "metadata": {},
     "output_type": "execute_result"
    }
   ],
   "source": [
    "data = convert_to_pandas_data_frame(X=data_X, Y=data_Y)\n",
    "data.head() # see first few rows of DataFrame\n",
    "data.to_csv(\"mydata.csv\") # save a DataFrame to a file.csv\n",
    "mydata=pd.read_csv(\"./mydata.csv\", index_col=0)  # load a file.csv to DataFrame\n",
    "mydata[:10]"
   ]
  },
  {
   "cell_type": "markdown",
   "metadata": {},
   "source": [
    "### we will split the data into train and test set"
   ]
  },
  {
   "cell_type": "markdown",
   "metadata": {},
   "source": [
    "### assumption: we have data.csv ...."
   ]
  },
  {
   "cell_type": "code",
   "execution_count": 11,
   "metadata": {},
   "outputs": [
    {
     "name": "stdout",
     "output_type": "stream",
     "text": [
      "train data count :  120 \t test data count :  30\n"
     ]
    }
   ],
   "source": [
    "data_df = pd.read_csv('mydata.csv', index_col=0) # loading data from file\n",
    "data_df.head()\n",
    "train_count = int(len(data_df)*0.8)\n",
    "data_train = data_df[:train_count]\n",
    "data_test = data_df[train_count:]\n",
    "print(\"train data count : \",len(data_train), \"\\t test data count : \",len(data_test))"
   ]
  },
  {
   "cell_type": "code",
   "execution_count": 12,
   "metadata": {},
   "outputs": [
    {
     "name": "stderr",
     "output_type": "stream",
     "text": [
      "/home/utsab/anaconda3/envs/tbee1/lib/python3.5/site-packages/ipykernel_launcher.py:4: FutureWarning: Method .as_matrix will be removed in a future version. Use .values instead.\n",
      "  after removing the cwd from sys.path.\n"
     ]
    }
   ],
   "source": [
    "def convert_DataFrame_to_XYList(sample_df):\n",
    "    y = sample_df[\"y\"].tolist()\n",
    "    del sample_df[\"y\"]\n",
    "    x = sample_df.as_matrix()\n",
    "    return (x, y)\n",
    "\n",
    "mtrainX, mtrainY = convert_DataFrame_to_XYList(sample_df=data_train)\n",
    "mtestX, mtestY = convert_DataFrame_to_XYList(sample_df=data_test)"
   ]
  },
  {
   "cell_type": "code",
   "execution_count": 13,
   "metadata": {},
   "outputs": [],
   "source": [
    "class KNNModdel:\n",
    "    \n",
    "    def __init__(self, trainX, trainY):\n",
    "        self.train_x = trainX\n",
    "        self.train_y = trainY\n",
    "    \n",
    "        \n",
    "    def euclidean_dist(self, x1, x2):\n",
    "        if len(x1) != len(x2):\n",
    "            return None\n",
    "        else: \n",
    "            dif = []\n",
    "            for i in range(len(x1)):\n",
    "                d = (x1[i] - x2[i])*(x1[i] - x2[i])\n",
    "                dif.append(d)\n",
    "            add=sum(dif)\n",
    "        return sqrt(add)\n",
    "        \n",
    "    def knn_for_one_sample(self, x_to_predict, k):\n",
    "        result = None\n",
    "        dis_vec = [] # will contain euclidian dist of x_to_predict vs. train_x\n",
    "        for i in range(len(self.train_x)):\n",
    "            dis_vec.append((self.euclidean_dist(self.train_x[i],x_to_predict),self.train_y[i],i)) \n",
    "        dis_vec.sort()\n",
    "        dis_vec=dis_vec[:k]\n",
    "        lab_dict_freq= {0:0,1:0,2:0}\n",
    "        for i in range(k):\n",
    "            dist,cls,idx = dis_vec[i]\n",
    "            if cls == 0:\n",
    "                lab_dict_freq[0] += 1\n",
    "            elif cls == 1:\n",
    "                lab_dict_freq[1] += 1\n",
    "            else:\n",
    "                lab_dict_freq[2] += 1\n",
    "        max_val = max([lab_dict_freq[1],lab_dict_freq[2], lab_dict_freq[1]])\n",
    "        sum_val = (lab_dict_freq[0]+lab_dict_freq[1]+lab_dict_freq[2])\n",
    "        if lab_dict_freq[0] == max_val: \n",
    "            result = (0,(lab_dict_freq[0]/sum_val))\n",
    "        elif lab_dict_freq[1] == max_val:\n",
    "            result = (1,(lab_dict_freq[0]/sum_val))       \n",
    "        else:\n",
    "            result = (2,(lab_dict_freq[1]/sum_val))\n",
    "        return result\n",
    "    \n",
    "    def predict(self, test_x, k): #returns pred y when test_x is given\n",
    "        test_y = []\n",
    "        for i in range(len(test_x)):\n",
    "            samplex = test_x[i]\n",
    "            result,prob = self.knn_for_one_sample(x_to_predict=samplex, k=k)\n",
    "            test_y.append(result)\n",
    "        return test_y"
   ]
  },
  {
   "cell_type": "code",
   "execution_count": 14,
   "metadata": {},
   "outputs": [],
   "source": [
    "def get_classes(goldlist):\n",
    "    return list(set(goldlist)) #Set method returns unique\n",
    "\n",
    "def get_prec_recl_f1(classname,mygoldlist,mypredlist):\n",
    "    tp=0\n",
    "    fp=0\n",
    "    fn=0\n",
    "    sp=0\n",
    "    result=(0,0,0,0)\n",
    "    if len(mygoldlist) != len(mypredlist):\n",
    "        return result\n",
    "    else:\n",
    "        for i in range(len(mygoldlist)):\n",
    "            gold=mygoldlist[i]\n",
    "            pred=mypredlist[i]\n",
    "            if pred==classname:\n",
    "                if pred==gold:\n",
    "                    tp=tp+1\n",
    "                else:\n",
    "                    fp=fp+1\n",
    "            else:\n",
    "                if gold==classname:\n",
    "                    fn=fn+1\n",
    "            if gold==classname:\n",
    "                sp=sp+1\n",
    "        prec=0.0\n",
    "        if (tp+fp) > 0:\n",
    "            prec = tp/(tp+fp)\n",
    "        recl=0.0\n",
    "        if (tp+fp) > 0:\n",
    "            recl = tp/(tp+fn)\n",
    "        f1 = 0.0 \n",
    "        if (prec+recl) > 0:\n",
    "            f1 = (2*prec*recl)/(prec+recl) \n",
    "        result=(round(prec, 2),round(recl, 2),round(f1, 2), sp)\n",
    "        return result\n"
   ]
  },
  {
   "cell_type": "code",
   "execution_count": 15,
   "metadata": {
    "scrolled": true
   },
   "outputs": [
    {
     "data": {
      "text/plain": [
       "<matplotlib.axes._subplots.AxesSubplot at 0x7f6d4e44b3c8>"
      ]
     },
     "execution_count": 15,
     "metadata": {},
     "output_type": "execute_result"
    },
    {
     "data": {
      "image/png": "[encoded data removed]",
      "text/plain": [
       "<Figure size 432x288 with 1 Axes>"
      ]
     },
     "metadata": {
      "needs_background": "light"
     },
     "output_type": "display_data"
    }
   ],
   "source": [
    "model = KNNModdel(trainX=mtrainX, trainY=mtrainY)\n",
    "kvalue=[]\n",
    "score=[]\n",
    "for ik in range(1,train_count):\n",
    "    mpredY = model.predict(test_x=mtestX, k=ik)\n",
    "    myclasslist = get_classes(mtestY)\n",
    "    avgf0 =.0\n",
    "    avgp = 0.\n",
    "    avgr = 0.\n",
    "    for c in myclasslist:\n",
    "        p, r, f1, s = get_prec_recl_f1(classname=c, mygoldlist=mtestY ,mypredlist=mpredY)\n",
    "        avgf0+=f1\n",
    "        avgr+=r\n",
    "        avgp+=p\n",
    "        \n",
    "    avgf0/=len(myclasslist) \n",
    "    avgp/=len(myclasslist) \n",
    "    avgr/=len(myclasslist) \n",
    "    #print(\"k {} avgF1 {} avgP{} avgR{}\".format(ik,avgf0,avgp,avgr))\n",
    "    \n",
    "    kvalue.append(ik)\n",
    "    score.append(avgf0)\n",
    "    \n",
    "data={\"k\":kvalue,\"score\":score}\n",
    "df=pd.DataFrame.from_dict(data)\n",
    "df.plot(x='k',y='score')"
   ]
  },
  {
   "cell_type": "code",
   "execution_count": null,
   "metadata": {},
   "outputs": [],
   "source": []
  }
 ],
 "metadata": {
  "kernelspec": {
   "display_name": "Python 3",
   "language": "python",
   "name": "python3"
  },
  "language_info": {
   "codemirror_mode": {
    "name": "ipython",
    "version": 3
   },
   "file_extension": ".py",
   "mimetype": "text/x-python",
   "name": "python",
   "nbconvert_exporter": "python",
   "pygments_lexer": "ipython3",
   "version": "3.5.6"
  }
 },
 "nbformat": 4,
 "nbformat_minor": 2
}
