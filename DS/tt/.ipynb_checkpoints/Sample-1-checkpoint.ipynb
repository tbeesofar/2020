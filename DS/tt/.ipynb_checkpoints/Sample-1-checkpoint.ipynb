{
 "cells": [
  {
   "cell_type": "code",
   "execution_count": 1,
   "metadata": {},
   "outputs": [],
   "source": [
    "import sklearn\n",
    "import numpy as np\n",
    "import pandas as pd"
   ]
  },
  {
   "cell_type": "code",
   "execution_count": 2,
   "metadata": {},
   "outputs": [],
   "source": [
    "def add_vector(v1=[1.,2.,.3], v2=[.7,1.,.9]):\n",
    "    if len(v1) != len(v2):\n",
    "        return None\n",
    "    else:\n",
    "        res = []\n",
    "        for i in range(len(v1)):\n",
    "            r = v1[i] + v2[i]\n",
    "            res.append(r)\n",
    "        return res"
   ]
  },
  {
   "cell_type": "code",
   "execution_count": 3,
   "metadata": {},
   "outputs": [
    {
     "name": "stdout",
     "output_type": "stream",
     "text": [
      "[1.7, 3.0, 1.2]\n"
     ]
    }
   ],
   "source": [
    "print(add_vector())"
   ]
  },
  {
   "cell_type": "code",
   "execution_count": 7,
   "metadata": {},
   "outputs": [
    {
     "data": {
      "text/plain": [
       "[2, 4, 8.6]"
      ]
     },
     "execution_count": 7,
     "metadata": {},
     "output_type": "execute_result"
    }
   ],
   "source": [
    "add_vector(v1=[1, 2, 4], v2=[1, 2, 4.6])"
   ]
  },
  {
   "cell_type": "code",
   "execution_count": 8,
   "metadata": {},
   "outputs": [],
   "source": [
    "# create a method that computes the euclidian dist between two vectors"
   ]
  },
  {
   "cell_type": "code",
   "execution_count": 37,
   "metadata": {},
   "outputs": [],
   "source": [
    "from math import sqrt\n",
    "def euclidean_dist(x1=[1.,8.,.6], y1=[.8,.4,9.]):\n",
    "    if len(x1) != len(y1):\n",
    "        return print (\"Length of x and y are not same\")\n",
    "    else: \n",
    "        dif = []\n",
    "        for i in range(len(x1)):\n",
    "            d = (x1[i] - y1[i])*(x1[i] - y1[i])\n",
    "            dif.append(d)\n",
    "        add=sum(dif)\n",
    "        return sqrt(add)"
   ]
  },
  {
   "cell_type": "code",
   "execution_count": 39,
   "metadata": {},
   "outputs": [
    {
     "name": "stdout",
     "output_type": "stream",
     "text": [
      "11.329607230614839\n"
     ]
    }
   ],
   "source": [
    "print(euclidean_dist())"
   ]
  },
  {
   "cell_type": "code",
   "execution_count": 67,
   "metadata": {},
   "outputs": [],
   "source": [
    "X=np.random.rand(10,2)"
   ]
  },
  {
   "cell_type": "code",
   "execution_count": 68,
   "metadata": {},
   "outputs": [
    {
     "data": {
      "text/plain": [
       "(10, 2)"
      ]
     },
     "execution_count": 68,
     "metadata": {},
     "output_type": "execute_result"
    }
   ],
   "source": [
    "X.shape"
   ]
  },
  {
   "cell_type": "code",
   "execution_count": 77,
   "metadata": {},
   "outputs": [
    {
     "data": {
      "text/plain": [
       "array([[0.00916063, 0.06064909],\n",
       "       [0.7981485 , 0.48887592],\n",
       "       [0.34348623, 0.59321098],\n",
       "       [0.93373155, 0.31458223],\n",
       "       [0.50795486, 0.96577834],\n",
       "       [0.68164882, 0.61633442],\n",
       "       [0.28644621, 0.9233302 ],\n",
       "       [0.45702888, 0.87030385],\n",
       "       [0.57928827, 0.10786541],\n",
       "       [0.66123778, 0.78240741]])"
      ]
     },
     "execution_count": 77,
     "metadata": {},
     "output_type": "execute_result"
    }
   ],
   "source": [
    "X"
   ]
  },
  {
   "cell_type": "code",
   "execution_count": 69,
   "metadata": {},
   "outputs": [],
   "source": [
    "Y=[]\n",
    "for i in range(10):\n",
    "    if i%2==0:\n",
    "        Y.append(1)\n",
    "    else:\n",
    "        Y.append(0)"
   ]
  },
  {
   "cell_type": "code",
   "execution_count": 70,
   "metadata": {},
   "outputs": [],
   "source": [
    "Y=np.asarray(Y)"
   ]
  },
  {
   "cell_type": "code",
   "execution_count": 71,
   "metadata": {},
   "outputs": [
    {
     "data": {
      "text/plain": [
       "(10,)"
      ]
     },
     "execution_count": 71,
     "metadata": {},
     "output_type": "execute_result"
    }
   ],
   "source": [
    "Y.shape"
   ]
  },
  {
   "cell_type": "code",
   "execution_count": 78,
   "metadata": {},
   "outputs": [
    {
     "data": {
      "text/plain": [
       "array([1, 0, 1, 0, 1, 0, 1, 0, 1, 0])"
      ]
     },
     "execution_count": 78,
     "metadata": {},
     "output_type": "execute_result"
    }
   ],
   "source": [
    "Y"
   ]
  },
  {
   "cell_type": "code",
   "execution_count": 72,
   "metadata": {},
   "outputs": [],
   "source": [
    "import matplotlib.pyplot as plt"
   ]
  },
  {
   "cell_type": "code",
   "execution_count": null,
   "metadata": {},
   "outputs": [],
   "source": []
  },
  {
   "cell_type": "code",
   "execution_count": 87,
   "metadata": {},
   "outputs": [
    {
     "data": {
      "image/png": "[encoded data removed]",
      "text/plain": [
       "<Figure size 432x288 with 1 Axes>"
      ]
     },
     "metadata": {
      "needs_background": "light"
     },
     "output_type": "display_data"
    }
   ],
   "source": [
    "x1 = []\n",
    "x2 = []\n",
    "y = []\n",
    "color_dict = {1: 'orange', 0: 'green'}\n",
    "\n",
    "fig, ax = plt.subplots()\n",
    "for i in range(10):\n",
    "    ax.scatter(X[i][0],X[i][1], c=color_dict[Y[i]])\n",
    "plt.show()"
   ]
  },
  {
   "cell_type": "code",
   "execution_count": 89,
   "metadata": {},
   "outputs": [],
   "source": [
    "# K-NN func"
   ]
  },
  {
   "cell_type": "code",
   "execution_count": 149,
   "metadata": {},
   "outputs": [
    {
     "name": "stdout",
     "output_type": "stream",
     "text": [
      "[2, {'c': 4, 'd': 5}]\n"
     ]
    }
   ],
   "source": [
    "# Tup\n",
    "a = (1, 3,[2,{'c':4,'d':5}], 6, 7)\n",
    "print(a[2][-3:])\n",
    "#k = [(9,4), (3, 4)]\n",
    "#print(k[1][1])"
   ]
  },
  {
   "cell_type": "code",
   "execution_count": 150,
   "metadata": {},
   "outputs": [],
   "source": [
    " def knn(xtest,k, x,y):\n",
    "    dis_vec=[]\n",
    "    for i in range(len(x)):\n",
    "        dis_vec.append((euclidean_dist(x[i],xtest),y[i],i))\n",
    "    dis_vec.sort()\n",
    "    dis_vec=dis_vec[:k]\n",
    "    lab_dict_freq= {0:0,1:0}\n",
    "    for i in range(k):\n",
    "        a=dis_vec[i]\n",
    "        if a[1]==1:\n",
    "            lab_dict_freq[1]+=1\n",
    "        else:\n",
    "            lab_dict_freq[0]+=1\n",
    "    if lab_dict_freq[0]>lab_dict_freq[1]:\n",
    "        return (0,lab_dict_freq[0]\n",
    "    else:\n",
    "        return 1\n",
    "    "
   ]
  },
  {
   "cell_type": "code",
   "execution_count": 136,
   "metadata": {},
   "outputs": [
    {
     "data": {
      "text/plain": [
       "array([[0.00916063, 0.06064909],\n",
       "       [0.7981485 , 0.48887592],\n",
       "       [0.34348623, 0.59321098],\n",
       "       [0.93373155, 0.31458223],\n",
       "       [0.50795486, 0.96577834]])"
      ]
     },
     "execution_count": 136,
     "metadata": {},
     "output_type": "execute_result"
    }
   ],
   "source": [
    "X[:5]"
   ]
  },
  {
   "cell_type": "code",
   "execution_count": 156,
   "metadata": {},
   "outputs": [
    {
     "data": {
      "text/plain": [
       "0"
      ]
     },
     "execution_count": 156,
     "metadata": {},
     "output_type": "execute_result"
    }
   ],
   "source": [
    "knn(xtest=[.9,.3],k=2,x=X,y=Y)"
   ]
  },
  {
   "cell_type": "code",
   "execution_count": 151,
   "metadata": {},
   "outputs": [
    {
     "data": {
      "text/plain": [
       "<matplotlib.collections.PathCollection at 0x7f06f83389b0>"
      ]
     },
     "execution_count": 151,
     "metadata": {},
     "output_type": "execute_result"
    }
   ],
   "source": [
    "ax.scatter(X[i][0],X[i][1], c=color_dict[Y[i]])"
   ]
  },
  {
   "cell_type": "code",
   "execution_count": 152,
   "metadata": {},
   "outputs": [],
   "source": [
    "plt.show()"
   ]
  },
  {
   "cell_type": "code",
   "execution_count": null,
   "metadata": {},
   "outputs": [],
   "source": []
  }
 ],
 "metadata": {
  "kernelspec": {
   "display_name": "Python 3",
   "language": "python",
   "name": "python3"
  },
  "language_info": {
   "codemirror_mode": {
    "name": "ipython",
    "version": 3
   },
   "file_extension": ".py",
   "mimetype": "text/x-python",
   "name": "python",
   "nbconvert_exporter": "python",
   "pygments_lexer": "ipython3",
   "version": "3.5.6"
  }
 },
 "nbformat": 4,
 "nbformat_minor": 2
}
