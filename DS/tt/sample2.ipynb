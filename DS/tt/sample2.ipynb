{
 "cells": [
  {
   "cell_type": "code",
   "execution_count": 37,
   "metadata": {},
   "outputs": [],
   "source": [
    "import sklearn\n",
    "import numpy as np\n",
    "import pandas as pd"
   ]
  },
  {
   "cell_type": "code",
   "execution_count": 38,
   "metadata": {},
   "outputs": [],
   "source": [
    "def add_vector(v1=[1.,2.,.3], v2=[.7,1.,.9]):\n",
    "    if len(v1) != len(v2):\n",
    "        return None\n",
    "    else:\n",
    "        res = []\n",
    "        for i in range(len(v1)):\n",
    "            r = v1[i] + v2[i]\n",
    "            res.append(r)\n",
    "        return res"
   ]
  },
  {
   "cell_type": "code",
   "execution_count": 39,
   "metadata": {},
   "outputs": [
    {
     "name": "stdout",
     "output_type": "stream",
     "text": [
      "[1.7, 3.0, 1.2]\n"
     ]
    }
   ],
   "source": [
    "print(add_vector())"
   ]
  },
  {
   "cell_type": "code",
   "execution_count": 40,
   "metadata": {},
   "outputs": [
    {
     "data": {
      "text/plain": [
       "[2, 4, 8.6]"
      ]
     },
     "execution_count": 40,
     "metadata": {},
     "output_type": "execute_result"
    }
   ],
   "source": [
    "add_vector(v1=[1, 2, 4], v2=[1, 2, 4.6])"
   ]
  },
  {
   "cell_type": "code",
   "execution_count": 41,
   "metadata": {},
   "outputs": [],
   "source": [
    "# create a method that computes the euclidian dist between two vectors"
   ]
  },
  {
   "cell_type": "code",
   "execution_count": 42,
   "metadata": {},
   "outputs": [],
   "source": [
    "from math import sqrt\n",
    "def euclidean_dist(x1=[1.,8.,.6], y1=[.8,.4,9.]):\n",
    "    if len(x1) != len(y1):\n",
    "        return print (\"Length of x and y are not same\")\n",
    "    else: \n",
    "        dif = []\n",
    "        for i in range(len(x1)):\n",
    "            d = (x1[i] - y1[i])*(x1[i] - y1[i])\n",
    "            dif.append(d)\n",
    "        add=sum(dif)\n",
    "        return sqrt(add)"
   ]
  },
  {
   "cell_type": "code",
   "execution_count": 43,
   "metadata": {},
   "outputs": [
    {
     "name": "stdout",
     "output_type": "stream",
     "text": [
      "11.329607230614839\n"
     ]
    }
   ],
   "source": [
    "print(euclidean_dist())"
   ]
  },
  {
   "cell_type": "code",
   "execution_count": 64,
   "metadata": {},
   "outputs": [],
   "source": [
    "Xtrain=np.random.rand(100,2)"
   ]
  },
  {
   "cell_type": "code",
   "execution_count": 65,
   "metadata": {},
   "outputs": [
    {
     "data": {
      "text/plain": [
       "(100, 2)"
      ]
     },
     "execution_count": 65,
     "metadata": {},
     "output_type": "execute_result"
    }
   ],
   "source": [
    "Xtrain.shape"
   ]
  },
  {
   "cell_type": "code",
   "execution_count": 67,
   "metadata": {},
   "outputs": [
    {
     "data": {
      "text/plain": [
       "array([[2.16501985e-01, 6.21427002e-01],\n",
       "       [7.28349197e-02, 3.21295643e-02],\n",
       "       [7.03940422e-01, 3.86161916e-01],\n",
       "       [5.58664202e-01, 1.90914038e-01],\n",
       "       [7.45051326e-01, 6.75244909e-01],\n",
       "       [7.04295773e-01, 1.45862221e-01],\n",
       "       [4.35220517e-01, 6.26442446e-02],\n",
       "       [5.41967025e-01, 5.73798614e-02],\n",
       "       [1.18014104e-04, 9.65042897e-01],\n",
       "       [4.57183233e-01, 7.95044533e-01],\n",
       "       [6.33239171e-01, 6.99799398e-01],\n",
       "       [5.39579511e-01, 5.91512672e-01],\n",
       "       [7.85503521e-01, 7.64934788e-01],\n",
       "       [1.87179344e-01, 2.96407778e-01],\n",
       "       [6.93818380e-01, 4.79329881e-01],\n",
       "       [1.20468867e-01, 1.41906613e-02],\n",
       "       [8.03422470e-02, 4.13248840e-01],\n",
       "       [2.92275984e-02, 6.31631914e-01],\n",
       "       [4.54306017e-01, 7.04129576e-02],\n",
       "       [6.35808502e-01, 2.21494128e-01],\n",
       "       [1.11508398e-01, 2.90260612e-01],\n",
       "       [6.23835359e-01, 8.90032051e-01],\n",
       "       [3.74179053e-01, 1.20311916e-02],\n",
       "       [1.27820373e-01, 9.89951718e-01],\n",
       "       [8.51559896e-01, 1.86202042e-01],\n",
       "       [6.54445480e-01, 9.94364923e-01],\n",
       "       [1.86395711e-01, 1.65459713e-01],\n",
       "       [4.88048255e-01, 9.20610579e-01],\n",
       "       [9.23790161e-01, 7.22398203e-02],\n",
       "       [9.38447634e-01, 7.86227850e-01],\n",
       "       [2.98584065e-01, 1.08347296e-01],\n",
       "       [8.44152079e-01, 7.42559106e-01],\n",
       "       [4.23779237e-01, 3.23896623e-01],\n",
       "       [3.99483156e-01, 7.80781649e-01],\n",
       "       [1.61769119e-01, 2.62989233e-01],\n",
       "       [2.82848591e-01, 1.70933101e-01],\n",
       "       [4.19563989e-01, 1.63263993e-01],\n",
       "       [4.60574029e-01, 1.58811734e-01],\n",
       "       [4.74395507e-01, 6.41793290e-01],\n",
       "       [9.01771412e-01, 4.81786505e-01],\n",
       "       [2.29312423e-01, 4.02963485e-01],\n",
       "       [1.78909345e-01, 4.45123894e-01],\n",
       "       [4.44588602e-01, 7.15200638e-01],\n",
       "       [7.34197040e-01, 7.27644541e-01],\n",
       "       [7.23616174e-03, 5.04982276e-01],\n",
       "       [8.16480456e-01, 3.69507764e-01],\n",
       "       [5.84922095e-01, 9.76785182e-01],\n",
       "       [1.09613224e-02, 8.01405497e-01],\n",
       "       [4.43291135e-01, 1.54379365e-01],\n",
       "       [6.95765386e-01, 6.74946689e-01],\n",
       "       [9.91879467e-01, 8.27164808e-02],\n",
       "       [7.46158383e-01, 7.17772202e-02],\n",
       "       [3.18369907e-01, 1.69867786e-01],\n",
       "       [5.44235996e-01, 3.07252014e-01],\n",
       "       [8.13538780e-01, 1.59893501e-01],\n",
       "       [4.58423093e-02, 3.92268273e-01],\n",
       "       [1.98157482e-01, 5.16634984e-01],\n",
       "       [5.41016300e-01, 1.94245728e-01],\n",
       "       [2.34554245e-02, 7.35425384e-01],\n",
       "       [1.85823418e-01, 6.46627646e-01],\n",
       "       [5.81580749e-02, 2.47591963e-01],\n",
       "       [5.94900786e-01, 4.00688471e-01],\n",
       "       [1.98895689e-01, 6.36475188e-01],\n",
       "       [2.31675070e-02, 2.11621861e-01],\n",
       "       [6.28766516e-01, 2.90741851e-02],\n",
       "       [3.33754293e-01, 9.98838118e-01],\n",
       "       [8.28404680e-01, 7.70308346e-01],\n",
       "       [4.33987771e-01, 9.50040560e-01],\n",
       "       [9.30560497e-01, 3.75655847e-01],\n",
       "       [1.10542945e-01, 2.28175702e-01],\n",
       "       [5.42965712e-01, 7.34346372e-01],\n",
       "       [9.97823511e-01, 8.39911203e-01],\n",
       "       [4.84354118e-01, 1.71320326e-01],\n",
       "       [4.58882283e-01, 2.92699448e-01],\n",
       "       [2.59702042e-01, 3.19338324e-01],\n",
       "       [1.36945967e-01, 1.79486248e-01],\n",
       "       [1.04023759e-01, 3.92979041e-01],\n",
       "       [5.35411049e-01, 2.52373606e-01],\n",
       "       [4.10179177e-01, 7.34104824e-01],\n",
       "       [9.08588504e-02, 6.63692297e-01],\n",
       "       [2.54174155e-01, 4.29174470e-01],\n",
       "       [7.78893177e-01, 9.97493036e-01],\n",
       "       [5.57845119e-01, 4.22878112e-01],\n",
       "       [8.44410836e-01, 3.54465923e-01],\n",
       "       [3.95738879e-01, 6.48796537e-01],\n",
       "       [2.60215666e-01, 8.88385873e-01],\n",
       "       [4.55439742e-01, 9.52534884e-02],\n",
       "       [4.66516861e-01, 2.76116895e-01],\n",
       "       [1.71104636e-01, 3.52104482e-01],\n",
       "       [8.22330617e-01, 9.89712792e-02],\n",
       "       [1.22236197e-01, 6.97323975e-02],\n",
       "       [7.70756194e-01, 1.67781053e-01],\n",
       "       [4.15645212e-01, 8.62515978e-01],\n",
       "       [2.03570518e-01, 3.39814322e-03],\n",
       "       [3.79314407e-02, 2.01300746e-01],\n",
       "       [2.78783068e-01, 9.60560070e-01],\n",
       "       [6.15016230e-01, 6.57023227e-01],\n",
       "       [7.11902396e-01, 1.49194518e-01],\n",
       "       [9.98507813e-01, 8.14102051e-01],\n",
       "       [8.58996765e-02, 4.09494071e-01]])"
      ]
     },
     "execution_count": 67,
     "metadata": {},
     "output_type": "execute_result"
    }
   ],
   "source": [
    "Xtrain"
   ]
  },
  {
   "cell_type": "code",
   "execution_count": 68,
   "metadata": {},
   "outputs": [],
   "source": [
    "Ytrain=[]\n",
    "for i in range(100):\n",
    "    if i%2==0:\n",
    "        Ytrain.append(1)\n",
    "    else:\n",
    "        Ytrain.append(0)"
   ]
  },
  {
   "cell_type": "code",
   "execution_count": 69,
   "metadata": {},
   "outputs": [],
   "source": [
    "Ytrain=np.asarray(Y)"
   ]
  },
  {
   "cell_type": "code",
   "execution_count": 70,
   "metadata": {},
   "outputs": [
    {
     "data": {
      "text/plain": [
       "(100,)"
      ]
     },
     "execution_count": 70,
     "metadata": {},
     "output_type": "execute_result"
    }
   ],
   "source": [
    "Ytrain.shape"
   ]
  },
  {
   "cell_type": "code",
   "execution_count": 71,
   "metadata": {},
   "outputs": [
    {
     "data": {
      "text/plain": [
       "array([1, 0, 1, 0, 1, 0, 1, 0, 1, 0, 1, 0, 1, 0, 1, 0, 1, 0, 1, 0, 1, 0,\n",
       "       1, 0, 1, 0, 1, 0, 1, 0, 1, 0, 1, 0, 1, 0, 1, 0, 1, 0, 1, 0, 1, 0,\n",
       "       1, 0, 1, 0, 1, 0, 1, 0, 1, 0, 1, 0, 1, 0, 1, 0, 1, 0, 1, 0, 1, 0,\n",
       "       1, 0, 1, 0, 1, 0, 1, 0, 1, 0, 1, 0, 1, 0, 1, 0, 1, 0, 1, 0, 1, 0,\n",
       "       1, 0, 1, 0, 1, 0, 1, 0, 1, 0, 1, 0])"
      ]
     },
     "execution_count": 71,
     "metadata": {},
     "output_type": "execute_result"
    }
   ],
   "source": [
    "Ytrain"
   ]
  },
  {
   "cell_type": "code",
   "execution_count": 72,
   "metadata": {},
   "outputs": [],
   "source": [
    "import matplotlib.pyplot as plt"
   ]
  },
  {
   "cell_type": "code",
   "execution_count": null,
   "metadata": {},
   "outputs": [],
   "source": []
  },
  {
   "cell_type": "code",
   "execution_count": 74,
   "metadata": {},
   "outputs": [
    {
     "data": {
      "image/png": "[encoded data removed]",
      "text/plain": [
       "<Figure size 432x288 with 1 Axes>"
      ]
     },
     "metadata": {
      "needs_background": "light"
     },
     "output_type": "display_data"
    }
   ],
   "source": [
    "x1 = []\n",
    "x2 = []\n",
    "y = []\n",
    "color_dict = {1: 'orange', 0: 'green'}\n",
    "\n",
    "fig, ax = plt.subplots()\n",
    "for i in range(100):\n",
    "    ax.scatter(Xtrain[i][0],Xtrain[i][1], c=color_dict[Ytrain[i]])\n",
    "plt.show()"
   ]
  },
  {
   "cell_type": "code",
   "execution_count": 54,
   "metadata": {},
   "outputs": [],
   "source": [
    "# K-NN func"
   ]
  },
  {
   "cell_type": "code",
   "execution_count": 82,
   "metadata": {},
   "outputs": [],
   "source": [
    " def knn(xhat, k, x,y):\n",
    "    dis_vec=[]\n",
    "    for i in range(len(x)):\n",
    "        dis_vec.append((euclidean_dist(x[i],xhat),y[i],i))\n",
    "    dis_vec.sort()\n",
    "    dis_vec=dis_vec[:k]\n",
    "    lab_dict_freq= {0:0,1:0}\n",
    "    for i in range(k):\n",
    "        a=dis_vec[i]\n",
    "        if a[1]==1:\n",
    "            lab_dict_freq[1]+=1\n",
    "        else:\n",
    "            lab_dict_freq[0]+=1\n",
    "    if lab_dict_freq[0]>lab_dict_freq[1]:\n",
    "        return (0,(lab_dict_freq[0]/(lab_dict_freq[0]+lab_dict_freq[1])))\n",
    "    else:\n",
    "        return (1,(lab_dict_freq[1]/(lab_dict_freq[0]+lab_dict_freq[1])))\n",
    "    "
   ]
  },
  {
   "cell_type": "code",
   "execution_count": 80,
   "metadata": {},
   "outputs": [],
   "source": [
    "Xtest=np.random.rand(10,2)"
   ]
  },
  {
   "cell_type": "code",
   "execution_count": 81,
   "metadata": {},
   "outputs": [],
   "source": [
    "Ytest=[]\n",
    "for i in range(10):\n",
    "    if i%2==0:\n",
    "        Ytest.append(1)\n",
    "    else:\n",
    "        Ytest.append(0)"
   ]
  },
  {
   "cell_type": "code",
   "execution_count": 85,
   "metadata": {},
   "outputs": [],
   "source": [
    "def calcloss(xtest,ytest,xtrain,ytrain,kn):\n",
    "    loss=0.\n",
    "    for i in range(len(xtest)):\n",
    "        p=xtest[i]\n",
    "        yhat, prob=knn(xhat=p, k=kn, x=xtrain,y=ytrain)\n",
    "        y=ytest[i]\n",
    "        score=y-yhat\n",
    "        if score<0.:\n",
    "            score=score*(-1.)\n",
    "        loss+=score\n",
    "    return loss"
   ]
  },
  {
   "cell_type": "code",
   "execution_count": 86,
   "metadata": {},
   "outputs": [],
   "source": [
    "import pandas as pd"
   ]
  },
  {
   "cell_type": "code",
   "execution_count": 93,
   "metadata": {},
   "outputs": [],
   "source": [
    "kvalue=[]\n",
    "lossvalue=[]\n",
    "for i in range(100):\n",
    "    kvalue.append(i+1)\n",
    "    lossvalue.append(calcloss(xtest=Xtest,ytest=Ytest,xtrain=Xtrain,ytrain=Ytrain,kn=i+1))"
   ]
  },
  {
   "cell_type": "code",
   "execution_count": 94,
   "metadata": {},
   "outputs": [
    {
     "data": {
      "text/plain": [
       "<matplotlib.axes._subplots.AxesSubplot at 0x7f8d2ea80a90>"
      ]
     },
     "execution_count": 94,
     "metadata": {},
     "output_type": "execute_result"
    },
    {
     "data": {
      "image/png": "[encoded data removed]",
      "text/plain": [
       "<Figure size 432x288 with 1 Axes>"
      ]
     },
     "metadata": {
      "needs_background": "light"
     },
     "output_type": "display_data"
    }
   ],
   "source": [
    "data={\"k\":kvalue,\"loss\":lossvalue}\n",
    "df=pd.DataFrame.from_dict(data)\n",
    "df.head()\n",
    "df.plot(x='k',y='loss')"
   ]
  },
  {
   "cell_type": "code",
   "execution_count": null,
   "metadata": {},
   "outputs": [],
   "source": []
  }
 ],
 "metadata": {
  "kernelspec": {
   "display_name": "Python 3",
   "language": "python",
   "name": "python3"
  },
  "language_info": {
   "codemirror_mode": {
    "name": "ipython",
    "version": 3
   },
   "file_extension": ".py",
   "mimetype": "text/x-python",
   "name": "python",
   "nbconvert_exporter": "python",
   "pygments_lexer": "ipython3",
   "version": "3.5.6"
  }
 },
 "nbformat": 4,
 "nbformat_minor": 2
}
