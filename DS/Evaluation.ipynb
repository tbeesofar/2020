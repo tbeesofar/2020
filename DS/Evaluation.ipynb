{
 "cells": [
  {
   "cell_type": "code",
   "execution_count": 100,
   "metadata": {},
   "outputs": [],
   "source": [
    "import numpy as np\n",
    "import pandas as pd\n",
    "import math as mt\n",
    "import random as rd"
   ]
  },
  {
   "cell_type": "code",
   "execution_count": 101,
   "metadata": {},
   "outputs": [],
   "source": [
    "class T_Evaluation:\n",
    "    \n",
    "    def __init__(self, gold, pred):\n",
    "        self.Y = gold\n",
    "        self.Ypred  = pred\n",
    "        \n",
    "    def calc_performance_metrics(self, YpredInput): \n",
    "        #global inp ,tp1, tn0, fp1, fn0, performance, precision, accuracy, Y, Ypred, recall, F1, Specificity\n",
    "        tp1 = tn0 = 0 \n",
    "        fp1 = fn0 = 0\n",
    "        accuracy = precision = recall = F1 = Specificity = 0.\n",
    "        performance = {}\n",
    "        inp = YpredInput\n",
    "        for i in range(len(self.Y)):\n",
    "            if self.Ypred[i] == inp:\n",
    "                if self.Ypred[i] == self.Y[i]:\n",
    "                    tp1 += 1\n",
    "                else:\n",
    "                    fp1 += 1\n",
    "            else:\n",
    "                if self.Ypred[i] == self.Y[i]:\n",
    "                    tn0 += 1\n",
    "                else:\n",
    "                    fn0 += 1\n",
    "          \n",
    "        accuracy = (tp1 + fn0)/ float(tp1 + tn0 + fp1 + fn0)\n",
    "        precision = (tp1)/ float(tp1 + fp1)\n",
    "        recall = (tp1)/ float(tp1 + fn0)\n",
    "        F1 = (2 * precision * recall)/ float(precision + recall)\n",
    "        performance[\"tp1\"] = tp1\n",
    "        performance[\"fp1\"] = fp1\n",
    "        performance[\"tn0\"] = tn0\n",
    "        performance[\"fn0\"] = fn0\n",
    "        performance[\"accuracy\"] = accuracy\n",
    "        performance[\"precision\"] = precision\n",
    "        performance[\"recall\"] = recall\n",
    "        performance[\"F1\"]  = F1\n",
    "        return performance\n",
    "    \n",
    "\n",
    "    "
   ]
  },
  {
   "cell_type": "code",
   "execution_count": 102,
   "metadata": {},
   "outputs": [
    {
     "data": {
      "text/html": [
       "<div>\n",
       "<style scoped>\n",
       "    .dataframe tbody tr th:only-of-type {\n",
       "        vertical-align: middle;\n",
       "    }\n",
       "\n",
       "    .dataframe tbody tr th {\n",
       "        vertical-align: top;\n",
       "    }\n",
       "\n",
       "    .dataframe thead th {\n",
       "        text-align: right;\n",
       "    }\n",
       "</style>\n",
       "<table border=\"1\" class=\"dataframe\">\n",
       "  <thead>\n",
       "    <tr style=\"text-align: right;\">\n",
       "      <th></th>\n",
       "      <th>Label</th>\n",
       "      <th>P</th>\n",
       "      <th>R</th>\n",
       "      <th>F1</th>\n",
       "    </tr>\n",
       "  </thead>\n",
       "  <tbody>\n",
       "    <tr>\n",
       "      <td>0</td>\n",
       "      <td>0</td>\n",
       "      <td>0.400000</td>\n",
       "      <td>0.250</td>\n",
       "      <td>0.307692</td>\n",
       "    </tr>\n",
       "    <tr>\n",
       "      <td>1</td>\n",
       "      <td>1</td>\n",
       "      <td>0.333333</td>\n",
       "      <td>0.125</td>\n",
       "      <td>0.181818</td>\n",
       "    </tr>\n",
       "    <tr>\n",
       "      <td>2</td>\n",
       "      <td>2</td>\n",
       "      <td>0.428571</td>\n",
       "      <td>0.375</td>\n",
       "      <td>0.400000</td>\n",
       "    </tr>\n",
       "  </tbody>\n",
       "</table>\n",
       "</div>"
      ],
      "text/plain": [
       "   Label         P      R        F1\n",
       "0      0  0.400000  0.250  0.307692\n",
       "1      1  0.333333  0.125  0.181818\n",
       "2      2  0.428571  0.375  0.400000"
      ]
     },
     "execution_count": 102,
     "metadata": {},
     "output_type": "execute_result"
    }
   ],
   "source": [
    "xx_actu = [2,2,1,1,1,0,0,2,0,0,0,1,1,2,1]\n",
    "xx_pred = [2,2,0,0,1,1,0,1,2,2,0,2,2,2,0]\n",
    "\n",
    "evl = T_Evaluation(gold=xx_actu, pred=xx_pred)\n",
    "\n",
    "data = []\n",
    "\n",
    "for i in list(set(xx_actu)):\n",
    "    perf = evl.calc_performance_metrics(YpredInput = i)\n",
    "    temp = {\n",
    "        \"Label\": i, \n",
    "        \"P\": perf[\"precision\"], \n",
    "        \"R\": perf[\"recall\"], \n",
    "        \"F1\": perf[\"F1\"]\n",
    "    }\n",
    "    data.append(temp)\n",
    "\n",
    "df = pd.DataFrame(data)\n",
    "df.head()"
   ]
  },
  {
   "cell_type": "code",
   "execution_count": 104,
   "metadata": {},
   "outputs": [
    {
     "name": "stdout",
     "output_type": "stream",
     "text": [
      "              precision    recall  f1-score   support\n",
      "\n",
      "           0       0.40      0.40      0.40         5\n",
      "           1       0.33      0.17      0.22         6\n",
      "           2       0.43      0.75      0.55         4\n",
      "\n",
      "    accuracy                           0.40        15\n",
      "   macro avg       0.39      0.44      0.39        15\n",
      "weighted avg       0.38      0.40      0.37        15\n",
      "\n"
     ]
    }
   ],
   "source": [
    "from sklearn.metrics import confusion_matrix\n",
    "from sklearn.metrics import classification_report\n",
    "confusion_matrix(xx_actu,xx_pred)\n",
    "print(classification_report(xx_actu,xx_pred))"
   ]
  },
  {
   "cell_type": "code",
   "execution_count": null,
   "metadata": {},
   "outputs": [],
   "source": []
  },
  {
   "cell_type": "code",
   "execution_count": null,
   "metadata": {},
   "outputs": [],
   "source": []
  }
 ],
 "metadata": {
  "kernelspec": {
   "display_name": "Python 3",
   "language": "python",
   "name": "python3"
  },
  "language_info": {
   "codemirror_mode": {
    "name": "ipython",
    "version": 3
   },
   "file_extension": ".py",
   "mimetype": "text/x-python",
   "name": "python",
   "nbconvert_exporter": "python",
   "pygments_lexer": "ipython3",
   "version": "3.7.4"
  }
 },
 "nbformat": 4,
 "nbformat_minor": 2
}
