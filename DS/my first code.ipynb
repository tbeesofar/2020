{
 "cells": [
  {
   "cell_type": "code",
   "execution_count": 4,
   "metadata": {},
   "outputs": [],
   "source": [
    "a=[1,2,3,4]"
   ]
  },
  {
   "cell_type": "code",
   "execution_count": 23,
   "metadata": {},
   "outputs": [],
   "source": [
    "b=[]\n",
    "c=[]\n",
    "d=[]\n",
    "e=[]\n",
    "f=[]\n"
   ]
  },
  {
   "cell_type": "code",
   "execution_count": 24,
   "metadata": {},
   "outputs": [
    {
     "name": "stdout",
     "output_type": "stream",
     "text": [
      "[1, 2, 3, 4]\n"
     ]
    }
   ],
   "source": [
    "for i in a:\n",
    "    b.append(i)\n",
    "print(b)"
   ]
  },
  {
   "cell_type": "code",
   "execution_count": 25,
   "metadata": {},
   "outputs": [
    {
     "name": "stdout",
     "output_type": "stream",
     "text": [
      "[1, 2, 3, 4]\n"
     ]
    }
   ],
   "source": [
    "print([c for c in b])"
   ]
  },
  {
   "cell_type": "code",
   "execution_count": 26,
   "metadata": {},
   "outputs": [
    {
     "name": "stdout",
     "output_type": "stream",
     "text": [
      "[2, 4, 6, 8]\n"
     ]
    }
   ],
   "source": [
    "print([d*2 for d in b])"
   ]
  },
  {
   "cell_type": "code",
   "execution_count": 27,
   "metadata": {},
   "outputs": [
    {
     "name": "stdout",
     "output_type": "stream",
     "text": [
      "[2, 4, 6, 8]\n"
     ]
    }
   ],
   "source": [
    "for i in b:\n",
    "    e.append(i*2)\n",
    "print(e)"
   ]
  },
  {
   "cell_type": "code",
   "execution_count": 28,
   "metadata": {},
   "outputs": [],
   "source": [
    "mov={\"tanhaji\":6,\"chapak\":4,\"chak de\":7,\"t24\":3}"
   ]
  },
  {
   "cell_type": "code",
   "execution_count": 30,
   "metadata": {},
   "outputs": [
    {
     "name": "stdout",
     "output_type": "stream",
     "text": [
      "['tanhaji', 'chak de']\n"
     ]
    }
   ],
   "source": [
    "g=[]\n",
    "for j in mov:\n",
    "    if mov[j]>=6:\n",
    "        g.append(j)\n",
    "print(g)"
   ]
  },
  {
   "cell_type": "code",
   "execution_count": 43,
   "metadata": {},
   "outputs": [
    {
     "name": "stdout",
     "output_type": "stream",
     "text": [
      "['tanhaji', 'chak de']\n"
     ]
    }
   ],
   "source": [
    "h=[]\n",
    "print([h for h in mov if mov[h]>=6])"
   ]
  },
  {
   "cell_type": "code",
   "execution_count": 45,
   "metadata": {},
   "outputs": [
    {
     "name": "stdout",
     "output_type": "stream",
     "text": [
      "[6, 3]\n"
     ]
    }
   ],
   "source": [
    "k=[]\n",
    "print([len(k) for k in mov if mov[k]<6])"
   ]
  },
  {
   "cell_type": "code",
   "execution_count": 48,
   "metadata": {},
   "outputs": [
    {
     "name": "stdout",
     "output_type": "stream",
     "text": [
      "[6, 3]\n"
     ]
    }
   ],
   "source": [
    "l=[]\n",
    "for z in mov:\n",
    "    if mov[z]<6:\n",
    "        l.append(len(z))\n",
    "print(l)"
   ]
  },
  {
   "cell_type": "code",
   "execution_count": 94,
   "metadata": {},
   "outputs": [],
   "source": [
    "#create a list of length of words if length of word is greater than 3 in that particular sentence\n",
    "aa=\"A quick brown fox jumped over the lazy dog\"\n",
    "dd=\"A quick brown fox jumped over the lazy dog\"\n",
    "gg=\"A quick brown fox jumped over the lazy dog\"\n",
    "cc=[]\n",
    "bb=[]\n",
    "ee=[]\n",
    "ff=[]\n",
    "hh=[]\n",
    "jj=[]"
   ]
  },
  {
   "cell_type": "code",
   "execution_count": 95,
   "metadata": {},
   "outputs": [
    {
     "name": "stdout",
     "output_type": "stream",
     "text": [
      "['A', 'quick', 'brown', 'fox', 'jumped', 'over', 'the', 'lazy', 'dog']\n",
      "[5, 5, 6, 4, 4]\n"
     ]
    }
   ],
   "source": [
    "bb=aa.split()\n",
    "print(bb)\n",
    "for i in range(len(bb)):\n",
    "    if len(bb[i])>3:\n",
    "        cc.append(len(bb[i]))\n",
    "print(cc)"
   ]
  },
  {
   "cell_type": "code",
   "execution_count": 96,
   "metadata": {},
   "outputs": [
    {
     "name": "stdout",
     "output_type": "stream",
     "text": [
      "[5, 5, 6, 4, 4]\n",
      "[]\n"
     ]
    }
   ],
   "source": [
    "print([len(ff) for ff in dd.split() if len(ff)>3])\n",
    "print(ff)"
   ]
  },
  {
   "cell_type": "code",
   "execution_count": 97,
   "metadata": {},
   "outputs": [],
   "source": [
    "#create a dictionary with words and their sizes"
   ]
  },
  {
   "cell_type": "code",
   "execution_count": 98,
   "metadata": {},
   "outputs": [
    {
     "name": "stdout",
     "output_type": "stream",
     "text": [
      "[1, 5, 5, 3, 6, 4, 3, 4, 3]\n",
      "['A', 'quick', 'brown', 'fox', 'jumped', 'over', 'the', 'lazy', 'dog']\n",
      "{('fox', 3), ('over', 4), ('dog', 3), ('quick', 5), ('lazy', 4), ('A', 1), ('jumped', 6), ('brown', 5), ('the', 3)}\n"
     ]
    }
   ],
   "source": [
    "mydict={}\n",
    "zz=[]\n",
    "yy=[]\n",
    "zz=list([len(hh) for hh in dd.split()])\n",
    "print(zz)\n",
    "yy=list([jj for jj in dd.split()])\n",
    "print(yy)\n",
    "mydict={(k,v) for k,v in zip(yy,zz)}\n",
    "print(mydict)\n",
    "#for i in range(dd.split()):\n",
    " #   print(i)\n",
    "    #mydict[i]=[len(ff) for ff in dd.split() if len(ff)>3]\n",
    "#print(mydict)"
   ]
  },
  {
   "cell_type": "code",
   "execution_count": null,
   "metadata": {},
   "outputs": [],
   "source": []
  },
  {
   "cell_type": "code",
   "execution_count": null,
   "metadata": {},
   "outputs": [],
   "source": []
  }
 ],
 "metadata": {
  "kernelspec": {
   "display_name": "Python 3",
   "language": "python",
   "name": "python3"
  },
  "language_info": {
   "codemirror_mode": {
    "name": "ipython",
    "version": 3
   },
   "file_extension": ".py",
   "mimetype": "text/x-python",
   "name": "python",
   "nbconvert_exporter": "python",
   "pygments_lexer": "ipython3",
   "version": "3.7.4"
  }
 },
 "nbformat": 4,
 "nbformat_minor": 2
}
